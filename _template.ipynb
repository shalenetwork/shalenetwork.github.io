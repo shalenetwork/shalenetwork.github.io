{
 "cells": [
  {
   "cell_type": "raw",
   "metadata": {
    "vscode": {
     "languageId": "raw"
    }
   },
   "source": [
    "---\n",
    "title: \"Teamplate Page\"\n",
    "description: |\n",
    "  Teamplate Page\n",
    "categories: [Syracuse University, Earth and Environmental Sciences]\n",
    "#image: ear-419-eag.png\n",
    "page-layout: full\n",
    "draft: true\n",
    "toc: true\n",
    "sidebar: course-ear-419\n",
    "webr: \n",
    "  show-startup-message: false    # Disable displaying status of webR initialization\n",
    "pyodide: \n",
    "  show-startup-message: false    # Disable displaying status of webR initialization\n",
    "filters:\n",
    "  - webr\n",
    "  - pyodide\n",
    "---"
   ]
  },
  {
   "cell_type": "markdown",
   "metadata": {},
   "source": [
    "[{{< fa window-maximize >}} course website](http://jaywen.com){.btn .btn-primary target=_blank} [{{< iconify simple-icons:googlecolab >}} open in Colab](https://colab.research.google.com/github/jaywt/jaywt.github.io/blob/main/courses/ear-419-environmental-aqueous-geochemistry/index.ipynb){.btn .btn-primary target=_blank}\n",
    "\n",
    "[![](https://colab.research.google.com/assets/colab-badge.svg)](https://colab.research.google.com/github/jaywt/jaywt.github.io/blob/main/courses/ear-419-environmental-aqueous-geochemistry/index.ipynb)"
   ]
  },
  {
   "cell_type": "raw",
   "metadata": {
    "vscode": {
     "languageId": "raw"
    }
   },
   "source": [
    "```{pyodide-python}\n",
    "import matplotlib.pyplot as plt\n",
    "\n",
    "x = [1, 5, 3, -2]\n",
    "y = [-5, 8, 9, 4]\n",
    "\n",
    "plt.plot(x, y)\n",
    "plt.show()\n",
    "```"
   ]
  },
  {
   "cell_type": "raw",
   "metadata": {
    "vscode": {
     "languageId": "raw"
    }
   },
   "source": [
    "```{webr-r}\n",
    "plot(\n",
    "  mpg ~ wt,\n",
    "  data = mtcars,\n",
    "  col = \"blue\", \n",
    "  xlab = \"Miles/(US) gallon\",\n",
    "  ylab = \"Weight (1000 lbs)\",\n",
    "  main = \"Miles per Gallon and Weight of Cars\",\n",
    "  sub = \"Source: 1974 Motor Trend US magazine.\"\n",
    ")\n",
    "```"
   ]
  }
 ],
 "metadata": {
  "language_info": {
   "name": "python"
  }
 },
 "nbformat": 4,
 "nbformat_minor": 2
}
