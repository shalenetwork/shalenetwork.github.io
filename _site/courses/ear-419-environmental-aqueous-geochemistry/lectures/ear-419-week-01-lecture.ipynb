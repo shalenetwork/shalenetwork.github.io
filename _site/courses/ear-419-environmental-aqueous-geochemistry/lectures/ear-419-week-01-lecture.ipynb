{
  "cells": [
    {
      "cell_type": "markdown",
      "metadata": {},
      "source": [
        "# Week 01\n",
        "\n",
        "Course Logistics and Introduction\n",
        "\n",
        "## Pre-class Prep\n",
        "\n",
        "Please be sure to read through the course\n",
        "[**syllabus**](../../../courses/ear-419-environmental-aqueous-geochemistry/week-01-lecture.ipynb)\n",
        "before class."
      ],
      "id": "8b59ef6c-1099-40ab-b7a7-13b77f82cb9b"
    }
  ],
  "nbformat": 4,
  "nbformat_minor": 5,
  "metadata": {
    "kernelspec": {
      "name": "python3",
      "display_name": ".quarto_venv",
      "language": "python"
    },
    "language_info": {
      "name": "python",
      "codemirror_mode": {
        "name": "ipython",
        "version": "3"
      },
      "file_extension": ".py",
      "mimetype": "text/x-python",
      "nbconvert_exporter": "python",
      "pygments_lexer": "ipython3",
      "version": "3.9.6"
    }
  }
}