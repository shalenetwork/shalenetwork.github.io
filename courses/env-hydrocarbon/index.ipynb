{
 "cells": [
  {
   "cell_type": "raw",
   "metadata": {
    "vscode": {
     "languageId": "raw"
    }
   },
   "source": [
    "---\n",
    "title: \"Environmental Issues Related to Brine Disposal from Hydrocarbon Development\"\n",
    "description: |\n",
    "  an online course on investigating environmental impact of oil and gas production on water quality\n",
    "categories: [SERC, Earth and Environmental Sciences, CUAHSI]\n",
    "image: water-hydrocarbon.png\n",
    "page-layout: full\n",
    "toc: true\n",
    "freeze: auto\n",
    "title-block-banner: false\n",
    "sidebar: false\n",
    "---"
   ]
  },
  {
   "cell_type": "markdown",
   "metadata": {
    "vscode": {
     "languageId": "raw"
    }
   },
   "source": [
    "[{{< fa window-maximize >}} Course Website](https://serc.carleton.edu/hydromodules/units/191769.html){.btn target=_blank} [{{< fa globe >}} SERC](https://serc.carleton.edu){.btn target=_blank}"
   ]
  },
  {
   "cell_type": "markdown",
   "metadata": {},
   "source": [
    "## Course description\n",
    "\n",
    "This course, [Environmental Issues Related to Brine Disposal from Oil and Gas Development in Pennsylvania](https://serc.carleton.edu/hydromodules/units/191769.html){target=_blank}, is designed to teach how to use online datasets to investigate the stream water chemistry upstream and downstream to brine water disposal site at multiple locations in Pennsylvania watersheds. This course is offered through the [SERC](https://serc.carleton.edu){target=_blank} platform, in partnership with [CUAHSI HydroClient](https://data.cuahsi.org){target=_blank}\n",
    "\n",
    "In this course, learners will explore three aspects of oil and gas development-related production waters:\n",
    "\n",
    "1. why the waters cannot be discharged directly into rivers;\n",
    "2. how disposal can be sometimes associated with earthquakes;\n",
    "3. how Pennsylvania tries to find ways to dispose of brines safely. We use different online services to find publicly available data.\n",
    "\n",
    "![This image was created with the assistance of DALL·E](water-hydrocarbon.png){width=70%}\n",
    "\n",
    "## When is this taught?\n",
    "\n",
    "This course is completely online and self-paced. You can take the course on the [SERC](https://serc.carleton.edu/hydromodules/units/191769.html){target=_blank} platform anytime you want."
   ]
  }
 ],
 "metadata": {
  "language_info": {
   "name": "python"
  }
 },
 "nbformat": 4,
 "nbformat_minor": 2
}
