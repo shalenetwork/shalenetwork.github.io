{
 "cells": [
  {
   "cell_type": "raw",
   "metadata": {
    "vscode": {
     "languageId": "raw"
    }
   },
   "source": [
    "---\n",
    "title: \"Data Science in Earth and Environmental Sciences\"\n",
    "description: |\n",
    "  an online course on introducing data sciences in earth and environmental sciences\n",
    "categories: [HydroLearn, R, Python, Earth and Environmental Sciences, Data Sciences, CUAHSI]\n",
    "image: hydrolearn-ds-ees.png\n",
    "page-layout: full\n",
    "toc: true\n",
    "freeze: auto\n",
    "title-block-banner: false\n",
    "sidebar: false\n",
    "---"
   ]
  },
  {
   "cell_type": "markdown",
   "metadata": {
    "vscode": {
     "languageId": "raw"
    }
   },
   "source": [
    "[{{< fa window-maximize >}} Course Website](https://edx.hydrolearn.org/courses/course-v1:SyracuseUniversity+EAR601+2020_Fall/about){.btn target=_blank} [{{< fa droplet >}} HydroLearn](https://www.hydrolearn.org){.btn target=_blank}"
   ]
  },
  {
   "cell_type": "markdown",
   "metadata": {},
   "source": [
    "## Course description\n",
    "\n",
    "This course, [Data Science in Earth and Environmental Sciences](https://edx.hydrolearn.org/courses/course-v1:SyracuseUniversity+EAR601+2020_Fall/about){target=_blank}, is designed to introduce learners to the basics of R and Python programming as well as the application of emerging data analytics and machine learning methods in the Earth and Environmental Sciences. This course is offered through the [HydroLearn](https://www.hydrolearn.org){target=_blank} platform, in partnership with [CUAHSI HydroShare](https://www.hydroshare.org){target=_blank}\n",
    "\n",
    "This course is designed to serve a broad mix of learners whose coding expertise ranges from beginner to expert level and whose geoscience-related research interests. At the end of this course, you should be able to describe and implement the steps involved in:\n",
    "\n",
    "1. reviewing and modifying others' codes in R and/or Python\n",
    "2. writing codes in R and/or Python\n",
    "3. developing and implementing a data science workflow for a data-driven project\n",
    "4. designing a data science project by conceptualizing a domain science problem\n",
    "\n",
    "This will be accomplished through activities within each section. Results from each activity will be recorded in specified results templates. The results templates for each activity can be found at the beginning of each activity. The results templates are organized such that results from one activity can easily be used in successive activities.\n",
    "\n",
    "![This image was created with the assistance of DALL·E](hydrolearn-ds-ees.png){width=70%}\n",
    "\n",
    "## When is this taught?\n",
    "\n",
    "This course is completely online and self-paced. You can take the course on the [HydroLearn](https://edx.hydrolearn.org/courses/course-v1:SyracuseUniversity+EAR601+2020_Fall/about){target=_blank} platform anytime you want."
   ]
  }
 ],
 "metadata": {
  "language_info": {
   "name": "python"
  }
 },
 "nbformat": 4,
 "nbformat_minor": 2
}
