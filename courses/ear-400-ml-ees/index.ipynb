{
 "cells": [
  {
   "cell_type": "raw",
   "metadata": {
    "vscode": {
     "languageId": "raw"
    }
   },
   "source": [
    "---\n",
    "title: \"EAR 400 - Machine Learning in Earth and Environmental Sciences\"\n",
    "description: |\n",
    "  a 3-credit course introducing machine learning in earth and environmental sciences\n",
    "categories: [Syracuse University, Earth and Environmental Sciences, Data Sciences, R]\n",
    "image: ear-400-ml-ees.png\n",
    "page-layout: full\n",
    "toc: true\n",
    "freeze: auto\n",
    "title-block-banner: false\n",
    "sidebar: course-ear-400-ml-ees\n",
    "---"
   ]
  },
  {
   "cell_type": "markdown",
   "metadata": {
    "vscode": {
     "languageId": "raw"
    }
   },
   "source": [
    "[{{< iconify ph:download-fill >}} Notebook](https://raw.githubusercontent.com/jaywt/jaywt.github.io/main/courses/ear-400-ml-ees/index.ipynb){.btn target=_blank} [{{< iconify simple-icons:googlecolab >}} Open in Colab](https://colab.research.google.com/github/jaywt/jaywt.github.io/blob/main/courses/ear-400-ml-ees/index.ipynb){.btn target=_blank}"
   ]
  },
  {
   "cell_type": "markdown",
   "metadata": {},
   "source": [
    "## Course description\n",
    "\n",
    "At this end of the course, students will be able to describe various concepts of programming, apply geospatial analysis and machine learning techniques to address real-world earth and environmental science questions, and interpret model outputs. The specific learning outcomes of the course are:\n",
    "\n",
    "1. Read and write data using standard formats\n",
    "2. Utilize modern coding environment R to perform scientific programing\n",
    "3. Wrangle and explore data effectively\n",
    "4. Perform advanced data visualization\n",
    "5. Write efficient code to perform earth and environmental science data manipulation and geospatial analysis\n",
    "6. Apply machine learning techniques to address real-world earth and environmental science questions\n",
    "7. Design and complete a project using real-world data\n",
    "\n",
    "![This image was created with the assistance of DALL·E](ear-400-ml-ees.png){width=70%}\n",
    "\n",
    "## When is this taught?\n",
    "\n",
    "EAR 400 is a newly developed course to be first offered in Spring 2025. Then I anticipate I will teach it in Spring every other year or even every year This course is taught in person."
   ]
  }
 ],
 "metadata": {
  "language_info": {
   "name": "python"
  }
 },
 "nbformat": 4,
 "nbformat_minor": 2
}
