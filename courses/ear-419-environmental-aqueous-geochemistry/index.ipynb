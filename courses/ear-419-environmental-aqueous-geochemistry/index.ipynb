{
 "cells": [
  {
   "cell_type": "raw",
   "metadata": {
    "vscode": {
     "languageId": "raw"
    }
   },
   "source": [
    "---\n",
    "title: \"EAR 419 - Environmental Aqueous Geochemistry\"\n",
    "description: |\n",
    "  a 3-credit course covering fundamentals of aqueous geochemistry in surface water and groundwater\n",
    "categories: [Syracuse University, Earth and Environmental Sciences]\n",
    "image: ear-419-eag.png\n",
    "page-layout: full\n",
    "toc: true\n",
    "freeze: auto\n",
    "title-block-banner: false\n",
    "sidebar: course-ear-419\n",
    "---"
   ]
  },
  {
   "cell_type": "markdown",
   "metadata": {
    "vscode": {
     "languageId": "raw"
    }
   },
   "source": [
    "[{{< iconify ph:download-fill >}} Notebook](https://raw.githubusercontent.com/jaywt/jaywt.github.io/main/courses/ear-419-environmental-aqueous-geochemistry/index.ipynb){.btn target=_blank} [{{< iconify simple-icons:googlecolab >}} Open in Colab](https://colab.research.google.com/github/jaywt/jaywt.github.io/blob/main/courses/ear-419-environmental-aqueous-geochemistry/index.ipynb){.btn target=_blank}"
   ]
  },
  {
   "cell_type": "markdown",
   "metadata": {},
   "source": [
    "## Course description\n",
    "\n",
    "This course, [Environmental Aqueous Geochemistry](/courses/ear-419-environmental-aqueous-geochemistry/index.ipynb){target=_blank}, is designed to teach processes and evolution of the chemical composition of water in the natural hydrologic cycle as well as methods of hydrochemical interpretation applied to ground water and pollution problems. This course is offered on the Syracuse University campus.\n",
    "\n",
    "By the end of this course, learners will be able to:\n",
    "\n",
    "1. evaluate chemical data to understand how water sources vary across the environment\n",
    "2. calculate thermodynamic and kinetic parameters to model geochemical processes\n",
    "3. use analytical techniques to determine the chemical properties of water samples collected from a field setting\n",
    "4. interpret and communicate scientific results through a written report and via class discussion of scientific literature\n",
    "\n",
    "![This image was created by Deborah Lee Soltesz](ear-419-eag.png){width=70%}\n",
    "\n",
    "## When is this taught?\n",
    "\n",
    "EAR 419 is a [core course](https://courses.syracuse.edu/search_advanced.php?cur_cat_oid=38&search_database=Search&search_db=Search&cpage=1&ecpage=1&ppage=1&spage=1&tpage=1&location=3&filter%5Bkeyword%5D=aqueous&filter%5Bexact_match%5D=1#) of the undergraduate and graduate programs in the [Department of Earth and Environmental Sciences](https://artsandsciences.syracuse.edu/earth-sciences-department/){target=_blank} at Syracuse University, taught in Fall semester each year. This course is taught in person."
   ]
  }
 ],
 "metadata": {
  "kernelspec": {
   "display_name": ".quarto_venv",
   "language": "python",
   "name": "python3"
  },
  "language_info": {
   "name": "python",
   "version": "3.9.6"
  }
 },
 "nbformat": 4,
 "nbformat_minor": 2
}
