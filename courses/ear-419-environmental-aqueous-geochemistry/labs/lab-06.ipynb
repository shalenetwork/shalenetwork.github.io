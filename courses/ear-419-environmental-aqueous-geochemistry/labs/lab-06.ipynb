{
 "cells": [
  {
   "cell_type": "raw",
   "id": "42e07fb9",
   "metadata": {
    "vscode": {
     "languageId": "raw"
    }
   },
   "source": [
    "---\n",
    "title: \"Lab 06\"\n",
    "subtitle: \"Literature Review and Project Pre-report\"\n",
    "page-layout: full\n",
    "toc: true\n",
    "freeze: auto\n",
    "title-block-banner: false\n",
    "sidebar: course-ear-419\n",
    "---"
   ]
  },
  {
   "cell_type": "markdown",
   "id": "e64e56ac",
   "metadata": {},
   "source": [
    "[{{< iconify ph:download-fill >}} Notebook](https://raw.githubusercontent.com/jaywt/jaywt.github.io/main/courses/ear-419-environmental-aqueous-geochemistry/labs/lab-06.ipynb){.btn target=_blank} [{{< iconify simple-icons:googlecolab >}} Open in Colab](https://colab.research.google.com/github/jaywt/jaywt.github.io/blob/main/courses/ear-419-environmental-aqueous-geochemistry/labs/lab-06.ipynb){.btn target=_blank}"
   ]
  },
  {
   "cell_type": "markdown",
   "id": "30473151",
   "metadata": {},
   "source": [
    "## Pre-lab Prep\n",
    "\n",
    "- Students are strongly encouraged to read through the [**Lab 06 Instructions**](../files_to_share/Lab6_Instructions_LiteratureReview-Prereport.docx) before class.\n",
    "- Students who are not familiar with conducting a literature review are strongly encouraged to read this [**Purdue OWL guideline**](https://owl.purdue.edu/owl/research_and_citation/conducting_research/writing_a_literature_review.html){target=_blank} before class.\n",
    "- Lab time for Lab 6 will primarily be used for lab Q&A, project/writing consultations, and project coordination. The lab 6 deliverable is __due at the end of the lab__.\n",
    "- This lab is assigned more than __three weeks__ before the due date to support these objectives and facilitate group discussions and literature reviews."
   ]
  },
  {
   "cell_type": "markdown",
   "id": "c3391a12",
   "metadata": {},
   "source": [
    "## Lab Materials\n",
    "\n",
    "| Lab Date                              | Download Link                                                                             |\n",
    "|:--------------------------------------|:------------------------------------------------------------------------------------------|\n",
    "|  Thur 11/14/2024                      | [Lab 6 Instruction](../files_to_share/Lab6_Instructions_LiteratureReview-Prereport.docx)  |\n",
    "|  Thur 11/14/2024                      | [Lab 6 Checklist](../files_to_share/Lab6_Checklist.docx)                                  |"
   ]
  },
  {
   "cell_type": "markdown",
   "id": "7db1d99c",
   "metadata": {},
   "source": [
    "## Deliverables\n",
    "\n",
    "| Deliverables                                      |  Date Assigned  | Date Due                    |\n",
    "|:--------------------------------------------------|:----------------|-----------------------------|\n",
    "| Lab 06 ([refer to the SU Blackboard website](http://blackboard.syracuse.edu){target=_blank})     | Tues 10/22/2024 | Thur 11/14/2024, 1:50pm ET  |"
   ]
  }
 ],
 "metadata": {
  "kernelspec": {
   "display_name": ".quarto_venv",
   "language": "python",
   "name": "python3"
  },
  "language_info": {
   "codemirror_mode": {
    "name": "ipython",
    "version": 3
   },
   "file_extension": ".py",
   "mimetype": "text/x-python",
   "name": "python",
   "nbconvert_exporter": "python",
   "pygments_lexer": "ipython3",
   "version": "3.9.6"
  }
 },
 "nbformat": 4,
 "nbformat_minor": 5
}
