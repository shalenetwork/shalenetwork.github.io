{
 "cells": [
  {
   "cell_type": "raw",
   "id": "42e07fb9",
   "metadata": {
    "vscode": {
     "languageId": "raw"
    }
   },
   "source": [
    "---\n",
    "title: \"Lab 01\"\n",
    "subtitle: \"Paper Discussion: Chemical Reactions in Urban Streams\"\n",
    "page-layout: full\n",
    "toc: true\n",
    "freeze: auto\n",
    "title-block-banner: false\n",
    "sidebar: course-ear-419\n",
    "---"
   ]
  },
  {
   "cell_type": "markdown",
   "id": "e64e56ac",
   "metadata": {},
   "source": [
    "[{{< iconify ph:download-fill >}} Notebook](https://raw.githubusercontent.com/jaywt/jaywt.github.io/main/courses/ear-419-environmental-aqueous-geochemistry/labs/lab-01.ipynb){.btn target=_blank} [{{< iconify simple-icons:googlecolab >}} Open in Colab](https://colab.research.google.com/github/jaywt/jaywt.github.io/blob/main/courses/ear-419-environmental-aqueous-geochemistry/labs/lab-01.ipynb){.btn target=_blank}"
   ]
  },
  {
   "cell_type": "markdown",
   "id": "30473151",
   "metadata": {},
   "source": [
    "## Pre-lab Prep\n",
    "\n",
    "Students must come to class prepared to discuss the assigned paper. Responses to paper discussions will be completed **before** class and turned in at the end of the class period on the day that the paper is discussed. ***Each student will only need to PICK ONE of the provided two papers.***"
   ]
  },
  {
   "cell_type": "markdown",
   "id": "c3391a12",
   "metadata": {},
   "source": [
    "## Lab Materials\n",
    "\n",
    "| Lab Date                              | Download Link                                                                     |\n",
    "|:--------------------------------------|:----------------------------------------------------------------------------------|\n",
    "|            Tues 09/10/2024            | [Lab 01 Instruction](../files_to_share/Lab1_PaperDiscussion.docx)     |\n",
    "|            Tues 09/10/2024            | [Paper 1 – Nesheim et al. (2024)](../files_to_share/1_Nesheim_et_al_2024.pdf)|\n",
    "|            Tues 09/10/2024            | [Paper 2 – Kaushal et al. (2018)](../files_to_share/2_Kaushal_et_al_2018.pdf)|"
   ]
  },
  {
   "cell_type": "markdown",
   "id": "7db1d99c",
   "metadata": {},
   "source": [
    "## Deliverables\n",
    "\n",
    "| Deliverables                                         |  Date Assigned  | Date Due                    |\n",
    "|:--------------------------------------------------|:----------------|-----------------------------|\n",
    "| Lab 01 ([refer to the SU Blackboard website](http://blackboard.syracuse.edu){target=_blank})     | Tues 09/03/2024 | Tues 09/10/2024, 1:50pm ET  |"
   ]
  }
 ],
 "metadata": {
  "kernelspec": {
   "display_name": ".quarto_venv",
   "language": "python",
   "name": "python3"
  },
  "language_info": {
   "codemirror_mode": {
    "name": "ipython",
    "version": 3
   },
   "file_extension": ".py",
   "mimetype": "text/x-python",
   "name": "python",
   "nbconvert_exporter": "python",
   "pygments_lexer": "ipython3",
   "version": "3.9.6"
  }
 },
 "nbformat": 4,
 "nbformat_minor": 5
}
