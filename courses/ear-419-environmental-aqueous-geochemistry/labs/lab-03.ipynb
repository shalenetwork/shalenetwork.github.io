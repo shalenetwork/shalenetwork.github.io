{
 "cells": [
  {
   "cell_type": "raw",
   "id": "42e07fb9",
   "metadata": {
    "vscode": {
     "languageId": "raw"
    }
   },
   "source": [
    "---\n",
    "title: \"Lab 03\"\n",
    "subtitle: \"Data Analysis and Statistics\"\n",
    "page-layout: full\n",
    "toc: true\n",
    "freeze: auto\n",
    "title-block-banner: false\n",
    "sidebar: course-ear-419\n",
    "---"
   ]
  },
  {
   "cell_type": "markdown",
   "id": "e64e56ac",
   "metadata": {},
   "source": [
    "[{{< iconify ph:download-fill >}} Notebook](https://raw.githubusercontent.com/jaywt/jaywt.github.io/main/courses/ear-419-environmental-aqueous-geochemistry/labs/lab-03.ipynb){.btn target=_blank} [{{< iconify simple-icons:googlecolab >}} Open in Colab](https://colab.research.google.com/github/jaywt/jaywt.github.io/blob/main/courses/ear-419-environmental-aqueous-geochemistry/labs/lab-03.ipynb){.btn target=_blank}"
   ]
  },
  {
   "cell_type": "markdown",
   "id": "30473151",
   "metadata": {},
   "source": [
    "## Pre-lab Prep\n",
    "\n",
    "- Students are strongly encouraged to read through [**Lab 03 Instructions**](../files_to_share/Lab3_Instructions_DataAnalysis.docx) before class.\n",
    "- There will be lab activities involving Microsoft Excel and Word. A laptop is needed."
   ]
  },
  {
   "cell_type": "markdown",
   "id": "c3391a12",
   "metadata": {},
   "source": [
    "## Lab Materials\n",
    "\n",
    "| Lab Date                              | Download Link                                                                     |\n",
    "|:--------------------------------------|:----------------------------------------------------------------------------------|\n",
    "|  Thur 10/03/2024  | [Lab 3 Instruction](../files_to_share/Lab3_Instructions_DataAnalysis.docx)     |\n",
    "|  Thur 10/03/2024  | [Lab 3 Dataset](../files_to_share/Lab3_Datasets.xlsx)     |\n",
    "|  Thur 10/03/2024  | [Lab 3 Slides](../files_to_share/Lab3_Slides_DataAnalysis.pdf)     |\n",
    "|  Thur 10/03/2024  | [Extended Reading 1 - IC Background](../files_to_share/ER1_IC_Background_for_Students.pdf)     |\n",
    "|  Thur 10/03/2024  | [Extended Reading 2 - ICP-OES Background](../files_to_share/ER2_ICP-OES_Background_for_Students.docx)     |\n",
    "|  Thur 10/03/2024  | [Extended Reading 3 - Woda et al. (2018)](../files_to_share/ER3_Woda_et_al_2018_PNAS.pdf)     |"
   ]
  },
  {
   "cell_type": "markdown",
   "id": "7db1d99c",
   "metadata": {},
   "source": [
    "## Deliverables\n",
    "\n",
    "| Deliverables                                         |  Date Assigned  | Date Due                    |\n",
    "|:--------------------------------------------------|:----------------|-----------------------------|\n",
    "| Lab 03 ([refer to the SU Blackboard website](http://blackboard.syracuse.edu){target=_blank})     | Thur 10/03/2024 | Thur 10/10/2024, 12:30pm ET  |"
   ]
  }
 ],
 "metadata": {
  "kernelspec": {
   "display_name": ".quarto_venv",
   "language": "python",
   "name": "python3"
  },
  "language_info": {
   "codemirror_mode": {
    "name": "ipython",
    "version": 3
   },
   "file_extension": ".py",
   "mimetype": "text/x-python",
   "name": "python",
   "nbconvert_exporter": "python",
   "pygments_lexer": "ipython3",
   "version": "3.9.6"
  }
 },
 "nbformat": 4,
 "nbformat_minor": 5
}
