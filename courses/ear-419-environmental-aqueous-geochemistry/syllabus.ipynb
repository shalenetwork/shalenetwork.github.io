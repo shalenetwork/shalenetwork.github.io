{
 "cells": [
  {
   "cell_type": "raw",
   "id": "42e07fb9",
   "metadata": {
    "vscode": {
     "languageId": "raw"
    }
   },
   "source": [
    "---\n",
    "title: \"Syllabus\"\n",
    "subtitle: \"EAR 419 - Environmental Aqueous Geochemistry\"\n",
    "page-layout: full\n",
    "toc: true\n",
    "freeze: auto\n",
    "title-block-banner: false\n",
    "sidebar: course-ear-419\n",
    "---"
   ]
  },
  {
   "cell_type": "markdown",
   "id": "767cfff1",
   "metadata": {},
   "source": [
    "[{{< iconify ph:download-fill >}} Notebook](https://raw.githubusercontent.com/jaywt/jaywt.github.io/main/courses/ear-419-environmental-aqueous-geochemistry/syllabus.ipynb){.btn target=_blank} [{{< iconify simple-icons:googlecolab >}} Open in Colab](https://colab.research.google.com/github/jaywt/jaywt.github.io/blob/main/courses/ear-419-environmental-aqueous-geochemistry/syllabus.ipynb){.btn target=_blank}"
   ]
  },
  {
   "cell_type": "markdown",
   "id": "30473151",
   "metadata": {},
   "source": [
    "*This syllabus is adapted from the Fall 2024 version. It gives the best indication of class work throughout the semester, but content and dates will vary and may change through the semester.*"
   ]
  },
  {
   "cell_type": "markdown",
   "id": "5c4dea5b",
   "metadata": {},
   "source": [
    "## Instructor\n",
    "\n",
    "* Tao Wen, Assistant Professor\n",
    "* Email: twen08@syr.edu\n",
    "* Office: 319B Heroy Geology Laboratory\n",
    "* Mailbox: 204 Heroy Geology Laboratory\n",
    "* Office Hours: One hour following the class on Tuesday and Thursday in 319B Heroy Geology Laboratory\n",
    "\n",
    "## Class Time and Location\n",
    "* Tuesdays and Thursdays: 12:30 PM – 1:50 PM\n",
    "* Room 217 Heroy Geology Laboratory"
   ]
  },
  {
   "cell_type": "markdown",
   "id": "f20e0f31",
   "metadata": {},
   "source": [
    "## Textbooks\n",
    "\n",
    "***Required***\n",
    "\n",
    "* *Water Chemistry: The Chemical Processes and Composition of Natural and Engineered Aquatic Systems* by Brezonik and Arnold (available via the [SU Libraries](https://search.syr.edu/permalink/01SYU_INST/1jt847n/alma9972213240308496){target=_blank} website)\n",
    "\n",
    "***Recommended***\n",
    "\n",
    "* *Principles and Applications of Aquatic Chemistry* by Morel and Hering"
   ]
  },
  {
   "cell_type": "markdown",
   "id": "f059b5fc",
   "metadata": {},
   "source": [
    "## Course Website\n",
    "\n",
    "We will use [this website](http://jaywen.com/courses/ear-419-environmental-aqueous-geochemistry/index.html){target=_blank} and the [SU Blackboard](https://blackboard.syr.edu){target=_blank} to provide:\n",
    "\n",
    "* Updates to the lecture schedule, including any lecture slides/notes\n",
    "* Posting of labs, problem sets, handouts, and supplementary material\n",
    "\n",
    "Therefore, it is expected that students will regularly access these two websites, so students are responsible for\n",
    "information posted on these two sites."
   ]
  },
  {
   "cell_type": "markdown",
   "id": "0c876458",
   "metadata": {},
   "source": [
    "## Course Topics and Student Learning Outcomes\n",
    "\n",
    "In this class, we will cover topics about processes and evolution of the chemical composition of water in the natural hydrologic cycle,\n",
    "methods of hydrochemical interpretation applied to both surface water and groundwater, and pollution problems. By the end of the semester, students should learn to:\n",
    "\n",
    "* evaluate chemical data to understand how water sources vary across the environment\n",
    "* calculate thermodynamic and kinetic parameters to model geochemical processes\n",
    "* use analytical techniques to determine the chemical properties of water samples collected from a field setting\n",
    "* interpret and communicate scientific results through a written report and via class discussion of scientific literature"
   ]
  },
  {
   "cell_type": "markdown",
   "id": "88fc49a1",
   "metadata": {},
   "source": [
    "## Grading\n",
    "\n",
    "* Your grade will be based on:\n",
    "  + Problem Sets (20%): four problem sets worth an average 5% each\n",
    "  + Lab Reports (30%): six lab reports worth 5% each\n",
    "  + Project Report (15%): A final paper due during finals week\n",
    "  + Midterm Exam (15%)\n",
    "  + Final Exam (20%)\n",
    "* Late assignments will have 5% deducted from the final grade for each day that they are late and will not be accepted after graded assignments have been returned.\n",
    "* Students are encouraged to work with and talk with each other about assignments, but all work handed in by each student must represent that student's own contribution. The instructor will follow all aspects of the university’s policies for academic integrity.\n",
    "* [**Optional for the Fall 2024 semester**] Field and Laboratory experience: This class will take a mandatory field trip to collect water samples (further discussed below). Students will prepare the water samples for chemical analysis during class hours or outside of class hours as needed.\n",
    "* Grading-related questions: I recognize that you care about the score you receive in this class. However, there may be times where I may enter a wrong score in a grade book, or when you may wish to know more about why you received a certain grade. For grading related questions, I am using a 24-7 rule:\n",
    "  + Immediately after new grades are added, you must wait 24 hours before contacting me about your grade. This waiting period helps with hasty reactions.  I will not respond to any request made during this period.\n",
    "  + The deadline for appealing a grade is seven days after the grade is released in Blackboard. Please be sure to include any specifics in your email to me about your grade.\n",
    "* Letter Grades\n",
    "\n",
    "| Letter Grade | Minimum Percentage |\n",
    "|:------------:|:------------------:|\n",
    "| A            | 93%                |\n",
    "| A-           | 90%                |\n",
    "| B+           | 87%                |\n",
    "| B            | 83%                |\n",
    "| B-           | 80%                |\n",
    "| C+           | 77%                |\n",
    "| C            | 73%                |\n",
    "| C-           | 70%                |\n",
    "| D            | 60%                |\n",
    "| F            | 59% and below      |\n",
    "\n",
    "### (Optional for the Fall 2024 semester) Field Trip\n",
    "\n",
    "A mandatory field trip will take place in the week of October 6. Students will travel to the Meadowbrook Creek in the City of Syracuse to collect water samples and conduct chemical analyses. Results obtained from these samples will serve as the basis for the final report described below. The date and plan of the field trip will be discussed on the first day of class.\n",
    "\n",
    "### Problem Sets\n",
    "\n",
    "Problem sets will require you to use concepts learned in class to calculate geochemical parameters. The purpose of the problem sets is to assess the development of your quantitative skills. Notes on problem sets:\n",
    "\n",
    "* Show your work! Ample credit will be given for developing a logical strategy and listing data and equations you would use to solve the problem. Points will be lost if no work is shown.\n",
    "* Keep your work organized and legible to allow for proper grading. Follow rules for significant figures. Circle your final answer.\n",
    "* While students are encouraged to discuss their results and problem-solving strategies, all work turned in must be your own. No two problem sets should have identical worked-out solutions.\n",
    "\n",
    "### Lab Reports\n",
    "\n",
    "Lab exercises will be conducted approximately weekly to bi-weekly to supplement lecture material. The purpose of the lab reports is to develop analytical, communication, and critical thinking skills. Students must wear closed toed shoes and pants to enter the chemistry laboratory. Note that some labs will consist of paper discussions or classroom exercise with computers rather than hands-on exercises. **For paper discussions, students must come to class prepared to discuss the assigned paper.** Responses to paper discussions will be completed prior to class and turned in at the end of the class period on the day that the paper is discussed.\n",
    "\n",
    "### Project Report\n",
    "\n",
    "The project report is an extended laboratory report that investigates the topic **as chosen by the student**. Technical reports are a staple of most jobs; thus, the purpose of this assignment is to prepare students to clearly and effectively communicate scientific results. Prior to the final project report due, students will need to turn in their project idea and a one-pager of their project report in weeks 5 and 10, respectively. These will be commented, and students will be expected to incorporate comments into the final version. The final project report will be due at the end of the semester and will include introduction, methods, results, and discussion sections. Class time will be devoted to discussion of results, and students are encouraged to discuss the project outside of class to formulate hypotheses and conclusions.\n",
    "\n",
    "### Exams\n",
    "\n",
    "Two exams will be given during the semester in order to evaluate each student’s ability to synthesize and apply course concepts. The exams will include a mix of calculations and short answers derived from material covered in lectures and laboratory exercises."
   ]
  },
  {
   "cell_type": "markdown",
   "id": "75ea61ba",
   "metadata": {},
   "source": [
    "## Schedule\n",
    "\n",
    "*This schedule is adapted from the Fall 2024 version. It gives the best indication of class work throughout the semester.*\n",
    "\n",
    "| **Week** | **Date** | **Topic**                                         | **Assignment Due**      | **Reading**     |\n",
    "|----------|----------|---------------------------------------------------|-------------------------|-----------------|\n",
    "| 1        | 8/27     | Lecture 1: Intro to Aqueous Geochemistry          |                         |                 |\n",
    "|          | 8/29     | Lecture 2: Chemistry and Chemical Reactions       |                         | Chapter 1       |\n",
    "| 2        | 9/3      | Lecture 3: Chemistry of Natural Waters            |                         | Chapter 2       |\n",
    "|          | 9/5      | Lecture 4: Thermodynamics                         | Problem Set 1           | Chapter 3       |\n",
    "| 3        | 9/10     | Lab 1                                             | Lab 1 write-up          |                 |\n",
    "|          | 9/12     | Lecture 5: Activity-Concentration Relationship    |                         | Chapter 4       |\n",
    "| 4        | 9/17     | Lecture 6: Carbonate Geochemistry (acid-base) I   |                         | Chapter 7       |\n",
    "|          | 9/19     | Lecture 7: Carbonate Geochemistry (acid-base) II  |                         | Chapter 8       |\n",
    "| 5        | 9/24     | Lab 2 – Session 1                                 |                         |                 |\n",
    "|          | 9/26     | Lab 2 – Session 2                                 | Final project idea                        |                 |\n",
    "| 6        | 10/1     | Lecture 8: Organic Geochemistry                   |                         | Chapter 6       |\n",
    "|          | 10/3     | Lab 3                                             | Lab 2 write-up          |                 |\n",
    "| 7        | 10/8     | Lecture 9: Speciation and Complexation            | Problem Set 2           | Chapter 9       |\n",
    "|          | 10/10    | Lecture 10: Redox Reactions I                     | Lab 3 write-up          | Chapter 11      |\n",
    "| 8        | 10/15    | NO CLASS – Fall Break                             |                         |                 |\n",
    "|          | 10/17    | In-class Midterm Exam                             |                         |                 |\n",
    "| 9        | 10/22    | Lecture 11: Redox Reactions II                    |                         | Chapter 11      |\n",
    "|          | 10/24    | Lab 4                                             |                         |                 |\n",
    "| 10       | 10/29    | Lecture 12: Kinetics of Water-Rock Interaction I  | Final project one-pager | Chapter 5       |\n",
    "|          | 10/31    | Lab 5 – Session 1                                 | Lab 4 write-up          |                 |\n",
    "| 11       | 11/5     | Lab 5 – Session 2                                 |                         |                 |\n",
    "|          | 11/7     | Lecture 13: Kinetics of Water-Rock Interaction II | Problem Set 3           | Chapter 10      |\n",
    "| 12       | 11/12    | Lecture 14: Surface Chemistry and Adsorption      | Lab 5 write-up          | Chapter 12      |\n",
    "|          | 11/14    | Lab 6                                             | Lab 6 write-up          |                 |\n",
    "| 13       | 11/19    | Lecture 15: Catchment Hydrogeochemistry I         |                         | Chapters 16, 17 |\n",
    "|          | 11/21    | Lecture 16: Catchment Hydrogeochemistry II        | Problem Set 4           | Chapter 19      |\n",
    "| 14       | 11/26    | NO CLASS – Thanksgiving Break                     |                         |                 |\n",
    "|          | 11/28    | NO CLASS – Thanksgiving Break                     |                         |                 |\n",
    "| 15       | 12/3     | Lecture 17: Noble Gas Geochemistry                |                         | TBD             |\n",
    "|          | 12/5     | In-class Final Exam                               |                         |                 |\n",
    "| 16       | 12/10    | NO CLASS – AGU Conference                         |                         |                 |\n",
    "| 17       | 12/17    | Final Project due Tuesday Dec 17 by 11:59 PM      |                         |                 |"
   ]
  },
  {
   "cell_type": "markdown",
   "id": "e1038bb6",
   "metadata": {},
   "source": [
    "## Important Course Policy Statements\n",
    "\n",
    "### Important Deadlines\n",
    "\n",
    "Add Deadline: Tuesday, September 3, 2024\n",
    "\n",
    "Academic/Financial Drop Deadline: Monday, September 16, 2024\n",
    "\n",
    "Withdrawal Deadline: Friday, November 22, 2024\n",
    "\n",
    "### Copyright Infringement and Electronic Course Materials\n",
    "\n",
    "Notes and other information (such as exam reviews, exam questions, etc.) made available electronically through Blackboard or email are intended only for the use of students currently enrolled in this course and are not to be disseminated or posted to other websites. They are for the sole use of students currently enrolled in this class and may be subject to copyright. If you take materials provided for this class electronically and then post them to the web in return for monetary compensation, you may be violating copyright, particularly if you include images and PowerPoint slides provided by the professor.\n",
    "\n",
    "### Students in Need of Disability-Related Academic Accommodations\n",
    "\n",
    "Syracuse University values diversity and inclusion; we are committed to a climate of mutual respect and full participation.  There may be aspects of the instruction or design of this course that result in barriers to your inclusion and full participation in this course.  I invite any student to contact me to discuss strategies and/or accommodations (academic adjustments) that may be essential to your success and to collaborate with the Center for Disability Resources (CDR) in this process. If you would like to discuss disability-accommodations or register with CDR, please visit [Center for Disability Resources](https://disabilityservices.syr.edu/){target=_blank}. Please call (315) 443-4498 or email disabilityresources@syr.edu for more detailed information. The CDR is responsible for coordinating disability-related academic accommodations and will work with the student to develop an access plan. Academic accommodations, such as exam administration, are not provided retroactively; therefore, planning for accommodations as early as possible is necessary.\n",
    "\n",
    "### Academic Integrity\n",
    "\n",
    "Syracuse University’s Academic Integrity Policy reflects the high value that we, as a university community, place on honesty in academic work. The policy defines our expectations for academic honesty and holds students accountable for the integrity of all work they submit. Students should understand that it is their responsibility to learn about course-specific expectations, as well as about university-wide academic integrity expectations. The policy governs appropriate citation and use of sources, the integrity of work submitted in exams and assignments, and the veracity of signatures on attendance sheets and other verification of participation in class activities. The policy also prohibits students from submitting the same work in more than one class without receiving written authorization in advance from both instructors. Under the policy, students found in violation are subject to grade sanctions determined by the course instructor and non-grade sanctions determined by the School or College where the course is offered as described in the Violation and Sanction Classification Rubric. Syracuse University students are required to read an online summary of the University’s academic integrity expectations and provide an electronic signature agreeing to abide by them twice a year during pre-term check- in on MySlice.\n",
    "\n",
    "The Violation and Sanction Classification Rubric establishes recommended guidelines for the determination of grade penalties by faculty and instructors, while also giving them discretion to select the grade penalty they believe most suitable, including course failure, regardless of violation level. Any established violation in this course may result in course failure regardless of violation level.\n",
    "\n",
    "All academic integrity expectations that apply to in-person quizzes and exams also apply to online quizzes and exams. In this course, all work submitted for quizzes and exams must be yours alone. ***Discussing quiz or exam questions with anyone during the quiz or exam period violates academic integrity expectations for this course.*** Using websites that charge fees or require uploading of course material (e.g., Chegg, Course Hero) to obtain exam solutions or assignments completed by others and present the work as your own violates academic integrity expectations in this course.\n",
    "\n",
    "### Faith Tradition Observances\n",
    "\n",
    "SU’s religious observances policy, found at [SU website](https://policies.syr.edu/policies/university-governance-ethics-integrity-and-legal-compliance/religious-observances-policy/){target=_blank}, recognizes the diversity of faiths represented in the campus community and protects the rights of students, faculty, and staff to observe religious holy days according to their tradition. Syracuse University does not set aside non-instructional days for any religious holiday. Students must notify instructors by the end of the second week of classes when they will be observing their religious holiday(s). Students will have access to an online notification form through MySlice for two weeks beginning on the first day of class. Once I have been notified of your intention to be absent for a religious observance, I will work with you directly to find a way to accommodate your absence.\n",
    "\n",
    "### Class Absences and Associated Missed Work\n",
    "\n",
    "Excuses for class absences for medical reasons will be given only if such absences are advised by a health care provider at the Health Center, based on clinical findings and prescribed treatment recommendations. Excused notes will not be given solely to confirm a visit to the Health Center. For complete details on excuse notes, visit this [[SU website]](https://ese.syr.edu/bewell/policies-and-procedures-barnes-center-at-the-arch-syracuse-university/){target=_blank}.\n",
    "\n",
    "### Diversity and Inclusion\n",
    "\n",
    "Syracuse University values diversity and inclusion; we are committed to a climate of mutual respect and full participation.  There may be aspects of the instruction or design of this course that result in barriers to your inclusion and full participation in this course.  I invite any student to contact me to discuss strategies and/or accommodations (academic adjustments) that may be essential to your success and to collaborate with the Center for Disability Resources (CDR) in this process.\n",
    "\n",
    "If you would like to discuss disability-accommodations or register with CDR, please visit [Center for Disability Resources](https://disabilityservices.syr.edu/){target=_blank}. Please call (315) 443-4498 or email disabilityresources@syr.edu for more detailed information.\n",
    "\n",
    "The CDR is responsible for coordinating disability-related academic accommodations and will work with the student to develop an access plan. Since academic accommodations may require early planning and generally are not provided retroactively, please contact CDR as soon as possible to begin this process.\n",
    "\n",
    "### Discrimination or Harassment\n",
    "\n",
    "The University does not discriminate and prohibits harassment or discrimination related to any protected category including creed, ethnicity, citizenship, sexual orientation, national origin, sex, gender, pregnancy, disability, marital status, age, race, color, veteran status, military status, religion, sexual orientation, domestic violence status, genetic information, gender identity, gender expression or perceived gender. Any complaint of discrimination or harassment related to any of these protected bases should be reported to Sheila Johnson-Willis, the University’s Chief Equal Opportunity & Title IX Officer. She is responsible for coordinating compliance efforts under various laws including Titles VI, VII, IX and Section 504 of the Rehabilitation Act. She can be contacted at Equal Opportunity, Inclusion, and Resolution Services, 005 Steele Hall, Syracuse University, Syracuse, NY 13244-1120; by email: titleix@syr.edu; or by telephone: 315-443-0211.\n",
    "\n",
    "### Educational Use of Student Work\n",
    "\n",
    "I intend to use academic work that you complete this semester for educational purposes in this course during this semester. Your registration and continued enrollment constitute your permission. I intend to use academic work that you complete this semester in subsequent semesters for educational purposes. Before using your work for that purpose, I will either get your written permission or render the work anonymous by removing identifying material.\n"
   ]
  }
 ],
 "metadata": {
  "kernelspec": {
   "display_name": ".quarto_venv",
   "language": "python",
   "name": "python3"
  },
  "language_info": {
   "codemirror_mode": {
    "name": "ipython",
    "version": 3
   },
   "file_extension": ".py",
   "mimetype": "text/x-python",
   "name": "python",
   "nbconvert_exporter": "python",
   "pygments_lexer": "ipython3",
   "version": "3.9.6"
  }
 },
 "nbformat": 4,
 "nbformat_minor": 5
}
