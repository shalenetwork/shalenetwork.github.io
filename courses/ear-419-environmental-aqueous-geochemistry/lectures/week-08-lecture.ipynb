{
 "cells": [
  {
   "cell_type": "raw",
   "id": "42e07fb9",
   "metadata": {
    "vscode": {
     "languageId": "raw"
    }
   },
   "source": [
    "---\n",
    "title: \"Week 08\"\n",
    "subtitle: \"FALL BREAK, Midterm Exam\"\n",
    "page-layout: full\n",
    "toc: true\n",
    "freeze: auto\n",
    "title-block-banner: false\n",
    "sidebar: course-ear-419\n",
    "---"
   ]
  },
  {
   "cell_type": "markdown",
   "id": "e64e56ac",
   "metadata": {},
   "source": [
    "[{{< iconify ph:download-fill >}} Notebook](https://raw.githubusercontent.com/jaywt/jaywt.github.io/main/courses/ear-419-environmental-aqueous-geochemistry/lectures/week-08-lecture.ipynb){.btn target=_blank} [{{< iconify simple-icons:googlecolab >}} Open in Colab](https://colab.research.google.com/github/jaywt/jaywt.github.io/blob/main/courses/ear-419-environmental-aqueous-geochemistry/lectures/week-08-lecture.ipynb){.btn target=_blank}"
   ]
  },
  {
   "cell_type": "markdown",
   "id": "30473151",
   "metadata": {},
   "source": [
    "## Fall Break on 10/15/2024\n",
    "\n",
    "![Image credit: Chattanooga Public Library](/assets/artworks/fall-break.png)"
   ]
  },
  {
   "cell_type": "markdown",
   "id": "c3391a12",
   "metadata": {},
   "source": [
    "## Midterm Exam on 10/17/2024\n",
    "\n",
    "* The midterm exam will be held during class time on the scheduled date (~80 minutes).\n",
    "* The exam is __open book__ and will cover material from lectures 1-8, problem sets 1-2, and labs 1-3.\n",
    "* The exam consists of 17 questions: 8 short-answer/calculation questions, 8 fill-in-the-blank/multiple-choice questions, and the seventeenth question, which is a short-answer question. This question is mandatory for graduate students and optional for undergraduates (as extra credit)."
   ]
  },
  {
   "cell_type": "markdown",
   "id": "8054f4ad",
   "metadata": {},
   "source": [
    "## Hands-on Lab\n",
    "\n",
    "No lab is assigned or due this week."
   ]
  },
  {
   "cell_type": "markdown",
   "id": "226cb3ee",
   "metadata": {},
   "source": [
    "## Assignment\n",
    "\n",
    "| Assignment Title                                                       |  Date Assigned  | Date Due                    |\n",
    "|:-----------------------------------------------------------------------|:----------------|-----------------------------|\n",
    "| Final Project One-Pager ([refer to the SU Blackboard website](http://blackboard.syracuse.edu){target=_blank})     | Tues 08/27/2024 | Tues 10/29/2024, 1:50pm ET |\n",
    "| Final Project Report ([refer to the SU Blackboard website](http://blackboard.syracuse.edu){target=_blank})     | Tues 08/27/2024 | Tues 12/17/2024, 11:59pm ET |"
   ]
  }
 ],
 "metadata": {
  "kernelspec": {
   "display_name": ".quarto_venv",
   "language": "python",
   "name": "python3"
  },
  "language_info": {
   "codemirror_mode": {
    "name": "ipython",
    "version": 3
   },
   "file_extension": ".py",
   "mimetype": "text/x-python",
   "name": "python",
   "nbconvert_exporter": "python",
   "pygments_lexer": "ipython3",
   "version": "3.9.6"
  }
 },
 "nbformat": 4,
 "nbformat_minor": 5
}
