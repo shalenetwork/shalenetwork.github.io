{
 "cells": [
  {
   "cell_type": "raw",
   "id": "42e07fb9",
   "metadata": {
    "vscode": {
     "languageId": "raw"
    }
   },
   "source": [
    "---\n",
    "title: \"Week 15\"\n",
    "subtitle: \"Noble Gas Geochemistry, Final Exam\"\n",
    "page-layout: full\n",
    "toc: true\n",
    "freeze: auto\n",
    "title-block-banner: false\n",
    "sidebar: course-ear-419\n",
    "---"
   ]
  },
  {
   "cell_type": "markdown",
   "id": "e64e56ac",
   "metadata": {},
   "source": [
    "[{{< iconify ph:download-fill >}} Notebook](https://raw.githubusercontent.com/jaywt/jaywt.github.io/main/courses/ear-419-environmental-aqueous-geochemistry/lectures/week-15-lecture.ipynb){.btn target=_blank} [{{< iconify simple-icons:googlecolab >}} Open in Colab](https://colab.research.google.com/github/jaywt/jaywt.github.io/blob/main/courses/ear-419-environmental-aqueous-geochemistry/lectures/week-15-lecture.ipynb){.btn target=_blank}"
   ]
  },
  {
   "cell_type": "markdown",
   "id": "c3391a12",
   "metadata": {},
   "source": [
    "## Lecture Materials (Lecture on 12/03/2024)\n",
    "\n",
    "| Lecture Date                                 | Download Link                                                                     |\n",
    "|:---------------------------------------------|:----------------------------------------------------------------------------------|\n",
    "|            Tues 12/03/2024                   | [Lecture 17 Slides](../files_to_share/Lecture17_NobleGasGeochemistry.pdf)         |"
   ]
  },
  {
   "cell_type": "markdown",
   "id": "30473151",
   "metadata": {},
   "source": [
    "## Final Exam on 12/05/2024\n",
    "\n",
    "* The final exam will be held during class time on the scheduled date (~80 minutes).\n",
    "* The exam is __open book__ and will cover material from all lectures, all problem sets, and all labs.\n",
    "* The exam consists of 11 questions: 7 short-answer/calculation questions, 3 fill-in-the-blank/multiple-choice questions, and the eleventh question, which is a short-answer question. This question is mandatory for graduate students and optional for undergraduates (as extra credit)."
   ]
  },
  {
   "cell_type": "markdown",
   "id": "e91b7476",
   "metadata": {},
   "source": [
    "## Hands-on Lab\n",
    "\n",
    "No lab is assigned or due this week."
   ]
  },
  {
   "cell_type": "markdown",
   "id": "226cb3ee",
   "metadata": {},
   "source": [
    "## Assignment\n",
    "\n",
    "| Assignment Title                                                       |  Date Assigned  | Date Due                    |\n",
    "|:-----------------------------------------------------------------------|:----------------|-----------------------------|\n",
    "| Final Project Report ([refer to the SU Blackboard website](http://blackboard.syracuse.edu){target=_blank})     | Tues 08/27/2024 | Tues 12/17/2024, 11:59pm ET |"
   ]
  }
 ],
 "metadata": {
  "kernelspec": {
   "display_name": ".quarto_venv",
   "language": "python",
   "name": "python3"
  },
  "language_info": {
   "codemirror_mode": {
    "name": "ipython",
    "version": 3
   },
   "file_extension": ".py",
   "mimetype": "text/x-python",
   "name": "python",
   "nbconvert_exporter": "python",
   "pygments_lexer": "ipython3",
   "version": "3.9.6"
  }
 },
 "nbformat": 4,
 "nbformat_minor": 5
}
