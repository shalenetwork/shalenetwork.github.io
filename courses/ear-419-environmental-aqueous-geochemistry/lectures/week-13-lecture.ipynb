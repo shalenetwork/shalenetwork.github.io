{
 "cells": [
  {
   "cell_type": "raw",
   "id": "42e07fb9",
   "metadata": {
    "vscode": {
     "languageId": "raw"
    }
   },
   "source": [
    "---\n",
    "title: \"Week 13\"\n",
    "subtitle: \"Catchment Hydrogeochemistry\"\n",
    "page-layout: full\n",
    "toc: true\n",
    "freeze: auto\n",
    "title-block-banner: false\n",
    "sidebar: course-ear-419\n",
    "---"
   ]
  },
  {
   "cell_type": "markdown",
   "id": "e64e56ac",
   "metadata": {},
   "source": [
    "[{{< iconify ph:download-fill >}} Notebook](https://raw.githubusercontent.com/jaywt/jaywt.github.io/main/courses/ear-419-environmental-aqueous-geochemistry/lectures/week-13-lecture.ipynb){.btn target=_blank} [{{< iconify simple-icons:googlecolab >}} Open in Colab](https://colab.research.google.com/github/jaywt/jaywt.github.io/blob/main/courses/ear-419-environmental-aqueous-geochemistry/lectures/week-13-lecture.ipynb){.btn target=_blank}"
   ]
  },
  {
   "cell_type": "markdown",
   "id": "30473151",
   "metadata": {},
   "source": [
    "## Pre-class Prep\n",
    "\n",
    "Reading Chapters 16, 17, and 19 of the required textbook is highly recommended."
   ]
  },
  {
   "cell_type": "markdown",
   "id": "c3391a12",
   "metadata": {},
   "source": [
    "## Lecture Materials\n",
    "\n",
    "| Lecture Date                                 | Download Link                                                                     |\n",
    "|:---------------------------------------------|:----------------------------------------------------------------------------------|\n",
    "|            Tues 11/19/2024 and Thur 11/21/2024                   | [Lecture 15/16 Slides](../files_to_share/Lecture15_16_CatchmentHydrogeochemistry.pdf)|\n",
    "|            Tues 11/19/2024 and Thur 11/21/2024                   | [Lecture 15/16 Notes](../files_to_share/Lecture15_16_Notes_CatchmentHydrogeochemistry.pdf)|"
   ]
  },
  {
   "cell_type": "markdown",
   "id": "aec22056",
   "metadata": {},
   "source": [
    "## Hands-on Lab\n",
    "\n",
    "No lab is assigned or due this week."
   ]
  },
  {
   "cell_type": "markdown",
   "id": "226cb3ee",
   "metadata": {},
   "source": [
    "## Assignment\n",
    "\n",
    "| Assignment Title                                                       |  Date Assigned  | Date Due                    |\n",
    "|:-----------------------------------------------------------------------|:----------------|-----------------------------|\n",
    "| Problem Set 04 ([refer to the SU Blackboard website](http://blackboard.syracuse.edu){target=_blank})     | Tues 11/12/2024 | Thur 11/21/2024, 12:30pm ET |\n",
    "| Final Project Report ([refer to the SU Blackboard website](http://blackboard.syracuse.edu){target=_blank})     | Tues 08/27/2024 | Tues 12/17/2024, 11:59pm ET |"
   ]
  }
 ],
 "metadata": {
  "kernelspec": {
   "display_name": ".quarto_venv",
   "language": "python",
   "name": "python3"
  },
  "language_info": {
   "codemirror_mode": {
    "name": "ipython",
    "version": 3
   },
   "file_extension": ".py",
   "mimetype": "text/x-python",
   "name": "python",
   "nbconvert_exporter": "python",
   "pygments_lexer": "ipython3",
   "version": "3.9.6"
  }
 },
 "nbformat": 4,
 "nbformat_minor": 5
}
