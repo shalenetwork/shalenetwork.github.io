{
 "cells": [
  {
   "cell_type": "raw",
   "id": "42e07fb9",
   "metadata": {
    "vscode": {
     "languageId": "raw"
    }
   },
   "source": [
    "---\n",
    "title: \"Assignment 03\"\n",
    "subtitle: \"Due November 3, 2022\"\n",
    "page-layout: full\n",
    "toc: true\n",
    "freeze: auto\n",
    "title-block-banner: false\n",
    "sidebar: course-ear-419\n",
    "---"
   ]
  },
  {
   "cell_type": "markdown",
   "id": "e64e56ac",
   "metadata": {},
   "source": [
    "[{{< iconify ph:download-fill >}} Notebook](https://raw.githubusercontent.com/jaywt/jaywt.github.io/main/courses/ear-419-environmental-aqueous-geochemistry/assignments/assignment-03.ipynb){.btn target=_blank} [{{< iconify simple-icons:googlecolab >}} Open in Colab](https://colab.research.google.com/github/jaywt/jaywt.github.io/blob/main/courses/ear-419-environmental-aqueous-geochemistry/assignments/assignment-03.ipynb){.btn target=_blank}"
   ]
  },
  {
   "cell_type": "markdown",
   "id": "30473151",
   "metadata": {},
   "source": [
    "## Question 01\n",
    "\n",
    "To be updated"
   ]
  },
  {
   "cell_type": "markdown",
   "id": "5d6fc88f",
   "metadata": {},
   "source": [
    "## Question 02\n",
    "\n",
    "To be updated"
   ]
  },
  {
   "cell_type": "markdown",
   "id": "3c02a93e",
   "metadata": {},
   "source": [
    "## Question 03\n",
    "\n",
    "To be updated"
   ]
  },
  {
   "cell_type": "markdown",
   "id": "7db1d99c",
   "metadata": {},
   "source": [
    "## Deliverables\n",
    "\n",
    "| Deliverables                                                       |  Date Assigned  | Date Due                    |\n",
    "|:-------------------------------------------------------------------|:----------------|-----------------------------|\n",
    "| [Assignment 01](../assignments/assignment-01.ipynb){target=_blank} | Thur 09/01/2022 | Thur 09/08/2022, 11:55pm ET |"
   ]
  }
 ],
 "metadata": {
  "kernelspec": {
   "display_name": ".quarto_venv",
   "language": "python",
   "name": "python3"
  },
  "language_info": {
   "codemirror_mode": {
    "name": "ipython",
    "version": 3
   },
   "file_extension": ".py",
   "mimetype": "text/x-python",
   "name": "python",
   "nbconvert_exporter": "python",
   "pygments_lexer": "ipython3",
   "version": "3.9.6"
  }
 },
 "nbformat": 4,
 "nbformat_minor": 5
}
